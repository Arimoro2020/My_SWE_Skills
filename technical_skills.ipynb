{
  "nbformat": 4,
  "nbformat_minor": 0,
  "metadata": {
    "colab": {
      "provenance": [],
      "toc_visible": true,
      "authorship_tag": "ABX9TyNl1sJ5wZea4XyCr//+sqaO",
      "include_colab_link": true
    },
    "kernelspec": {
      "name": "python3",
      "display_name": "Python 3"
    },
    "language_info": {
      "name": "python"
    }
  },
  "cells": [
    {
      "cell_type": "markdown",
      "metadata": {
        "id": "view-in-github",
        "colab_type": "text"
      },
      "source": [
        "<a href=\"https://colab.research.google.com/github/Arimoro2020/My_SWE_Skills/blob/main/technical_skills.ipynb\" target=\"_parent\"><img src=\"https://colab.research.google.com/assets/colab-badge.svg\" alt=\"Open In Colab\"/></a>"
      ]
    },
    {
      "cell_type": "code",
      "execution_count": 1,
      "metadata": {
        "id": "4mtKG0f0mOAd"
      },
      "outputs": [],
      "source": [
        "technical_skills = [\"Python\", \"Flask\", \"SQL\", \"JavaScript\", \"React\", \"CLI\", \"SQLAlchemy\", \"ORM\", \"Alembic\", \"Object-Oriented_Programming\", \"Design_Patterns\", \"DOM\", \"Git/GitHub\", \"Debugging\", \"Database Migration\", \"Program Management\", \"Technical Writing\", \"HTML\", \"CSS\", \"Azure Cloud\",  \"ELT\", \"Azure Data Factory\", \"Azure Data Engineering\", \"Data Science\", \"SQLite\", \"PostgreSQL\", \"Domain Modeling\", \"RESTful API\", \"Data Analysis\", \"Data Visualization\", \"Automation\", \"Scripting\", \"Formik\", \"Yup\", \"Backend Development\", \"Frontend Development\", \"validation\", \"Pandas\", \"Scikit-Learn\", \"Matplotlib\", \"Databricks\", \"Spark\", \"Serialization\", \"YAML\", \"Pickle\", \"JSON\", \"PDB\", \"Logging\"]"
      ]
    },
    {
      "cell_type": "markdown",
      "source": [
        "# New Section"
      ],
      "metadata": {
        "id": "qMERmHVz7ps8"
      }
    },
    {
      "cell_type": "code",
      "source": [
        "technical_skills.sort()"
      ],
      "metadata": {
        "id": "5B9IO7fPmYHZ"
      },
      "execution_count": 2,
      "outputs": []
    },
    {
      "cell_type": "code",
      "source": [
        "with open(\"/content/pattern.txt\", mode = \"w\", encoding= \"utf-8\") as log_file:\n",
        "  log_file.write(str(technical_skills))\n"
      ],
      "metadata": {
        "id": "rnKNzvcBstL4"
      },
      "execution_count": null,
      "outputs": []
    },
    {
      "cell_type": "code",
      "source": [
        "print(len(technical_skills))"
      ],
      "metadata": {
        "colab": {
          "base_uri": "https://localhost:8080/"
        },
        "id": "YNOyGXL39hST",
        "outputId": "ba0ec9aa-21d4-4980-d86d-26e25c538b6b"
      },
      "execution_count": 4,
      "outputs": [
        {
          "output_type": "stream",
          "name": "stdout",
          "text": [
            "48\n"
          ]
        }
      ]
    }
  ]
}